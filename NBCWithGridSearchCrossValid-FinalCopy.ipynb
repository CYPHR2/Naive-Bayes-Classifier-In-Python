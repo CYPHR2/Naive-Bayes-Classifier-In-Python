{
 "cells": [
  {
   "cell_type": "code",
   "execution_count": 26,
   "id": "26e12b8f",
   "metadata": {
    "tags": []
   },
   "outputs": [],
   "source": [
    "import pandas as pd\n",
    "from matplotlib import pyplot as plt \n",
    "import seaborn as sns\n",
    "import numpy as np\n",
    "import sklearn as sk\n",
    "from sklearn.model_selection import train_test_split\n",
    "%matplotlib inline\n",
    "\n",
    "data = pd.read_csv('Nsample.csv')\n",
    "dataframe = pd.DataFrame(data)"
   ]
  },
  {
   "cell_type": "markdown",
   "id": "97456d86",
   "metadata": {},
   "source": [
    "   #### Information of the dataset"
   ]
  },
  {
   "cell_type": "code",
   "execution_count": 27,
   "id": "c7f1569d",
   "metadata": {
    "scrolled": true,
    "tags": []
   },
   "outputs": [
    {
     "data": {
      "text/html": [
       "<div>\n",
       "<style scoped>\n",
       "    .dataframe tbody tr th:only-of-type {\n",
       "        vertical-align: middle;\n",
       "    }\n",
       "\n",
       "    .dataframe tbody tr th {\n",
       "        vertical-align: top;\n",
       "    }\n",
       "\n",
       "    .dataframe thead th {\n",
       "        text-align: right;\n",
       "    }\n",
       "</style>\n",
       "<table border=\"1\" class=\"dataframe\">\n",
       "  <thead>\n",
       "    <tr style=\"text-align: right;\">\n",
       "      <th></th>\n",
       "      <th>category</th>\n",
       "      <th>headline</th>\n",
       "      <th>authors</th>\n",
       "      <th>link</th>\n",
       "      <th>short_description</th>\n",
       "      <th>date</th>\n",
       "    </tr>\n",
       "  </thead>\n",
       "  <tbody>\n",
       "    <tr>\n",
       "      <th>0</th>\n",
       "      <td>CRIME</td>\n",
       "      <td>There Were 2 Mass Shootings In Texas Last Week...</td>\n",
       "      <td>Melissa Jeltsen</td>\n",
       "      <td>https://www.huffingtonpost.com/entry/texas-ama...</td>\n",
       "      <td>She left her husband. He killed their children...</td>\n",
       "      <td>2018-05-26</td>\n",
       "    </tr>\n",
       "    <tr>\n",
       "      <th>1</th>\n",
       "      <td>ENTERTAINMENT</td>\n",
       "      <td>Will Smith Joins Diplo And Nicky Jam For The 2...</td>\n",
       "      <td>Andy McDonald</td>\n",
       "      <td>https://www.huffingtonpost.com/entry/will-smit...</td>\n",
       "      <td>Of course it has a song.</td>\n",
       "      <td>2018-05-26</td>\n",
       "    </tr>\n",
       "    <tr>\n",
       "      <th>2</th>\n",
       "      <td>ENTERTAINMENT</td>\n",
       "      <td>Hugh Grant Marries For The First Time At Age 57</td>\n",
       "      <td>Ron Dicker</td>\n",
       "      <td>https://www.huffingtonpost.com/entry/hugh-gran...</td>\n",
       "      <td>The actor and his longtime girlfriend Anna Ebe...</td>\n",
       "      <td>2018-05-26</td>\n",
       "    </tr>\n",
       "    <tr>\n",
       "      <th>3</th>\n",
       "      <td>ENTERTAINMENT</td>\n",
       "      <td>Jim Carrey Blasts 'Castrato' Adam Schiff And D...</td>\n",
       "      <td>Ron Dicker</td>\n",
       "      <td>https://www.huffingtonpost.com/entry/jim-carre...</td>\n",
       "      <td>The actor gives Dems an ass-kicking for not fi...</td>\n",
       "      <td>2018-05-26</td>\n",
       "    </tr>\n",
       "    <tr>\n",
       "      <th>4</th>\n",
       "      <td>ENTERTAINMENT</td>\n",
       "      <td>Julianna Margulies Uses Donald Trump Poop Bags...</td>\n",
       "      <td>Ron Dicker</td>\n",
       "      <td>https://www.huffingtonpost.com/entry/julianna-...</td>\n",
       "      <td>The \"Dietland\" actress said using the bags is ...</td>\n",
       "      <td>2018-05-26</td>\n",
       "    </tr>\n",
       "  </tbody>\n",
       "</table>\n",
       "</div>"
      ],
      "text/plain": [
       "        category                                           headline  \\\n",
       "0          CRIME  There Were 2 Mass Shootings In Texas Last Week...   \n",
       "1  ENTERTAINMENT  Will Smith Joins Diplo And Nicky Jam For The 2...   \n",
       "2  ENTERTAINMENT    Hugh Grant Marries For The First Time At Age 57   \n",
       "3  ENTERTAINMENT  Jim Carrey Blasts 'Castrato' Adam Schiff And D...   \n",
       "4  ENTERTAINMENT  Julianna Margulies Uses Donald Trump Poop Bags...   \n",
       "\n",
       "           authors                                               link  \\\n",
       "0  Melissa Jeltsen  https://www.huffingtonpost.com/entry/texas-ama...   \n",
       "1    Andy McDonald  https://www.huffingtonpost.com/entry/will-smit...   \n",
       "2       Ron Dicker  https://www.huffingtonpost.com/entry/hugh-gran...   \n",
       "3       Ron Dicker  https://www.huffingtonpost.com/entry/jim-carre...   \n",
       "4       Ron Dicker  https://www.huffingtonpost.com/entry/julianna-...   \n",
       "\n",
       "                                   short_description        date  \n",
       "0  She left her husband. He killed their children...  2018-05-26  \n",
       "1                           Of course it has a song.  2018-05-26  \n",
       "2  The actor and his longtime girlfriend Anna Ebe...  2018-05-26  \n",
       "3  The actor gives Dems an ass-kicking for not fi...  2018-05-26  \n",
       "4  The \"Dietland\" actress said using the bags is ...  2018-05-26  "
      ]
     },
     "execution_count": 27,
     "metadata": {},
     "output_type": "execute_result"
    }
   ],
   "source": [
    "dataframe.head()"
   ]
  },
  {
   "cell_type": "code",
   "execution_count": 28,
   "id": "4d99804d",
   "metadata": {},
   "outputs": [
    {
     "name": "stdout",
     "output_type": "stream",
     "text": [
      "<class 'pandas.core.frame.DataFrame'>\n",
      "RangeIndex: 200853 entries, 0 to 200852\n",
      "Data columns (total 6 columns):\n",
      " #   Column             Non-Null Count   Dtype \n",
      "---  ------             --------------   ----- \n",
      " 0   category           200853 non-null  object\n",
      " 1   headline           200847 non-null  object\n",
      " 2   authors            164233 non-null  object\n",
      " 3   link               200853 non-null  object\n",
      " 4   short_description  181141 non-null  object\n",
      " 5   date               200853 non-null  object\n",
      "dtypes: object(6)\n",
      "memory usage: 9.2+ MB\n"
     ]
    }
   ],
   "source": [
    "dataframe.info()"
   ]
  },
  {
   "cell_type": "markdown",
   "id": "468ba556",
   "metadata": {},
   "source": [
    "#### Preprocessing and cleaning the dataset"
   ]
  },
  {
   "cell_type": "code",
   "execution_count": 29,
   "id": "63e1a2c5-ebd1-4dd1-b1ff-3f329d83a372",
   "metadata": {
    "scrolled": false,
    "tags": []
   },
   "outputs": [
    {
     "data": {
      "text/html": [
       "<div>\n",
       "<style scoped>\n",
       "    .dataframe tbody tr th:only-of-type {\n",
       "        vertical-align: middle;\n",
       "    }\n",
       "\n",
       "    .dataframe tbody tr th {\n",
       "        vertical-align: top;\n",
       "    }\n",
       "\n",
       "    .dataframe thead th {\n",
       "        text-align: right;\n",
       "    }\n",
       "</style>\n",
       "<table border=\"1\" class=\"dataframe\">\n",
       "  <thead>\n",
       "    <tr style=\"text-align: right;\">\n",
       "      <th></th>\n",
       "      <th>category</th>\n",
       "      <th>headline</th>\n",
       "      <th>short_description</th>\n",
       "    </tr>\n",
       "  </thead>\n",
       "  <tbody>\n",
       "    <tr>\n",
       "      <th>0</th>\n",
       "      <td>CRIME</td>\n",
       "      <td>There Were 2 Mass Shootings In Texas Last Week...</td>\n",
       "      <td>She left her husband. He killed their children...</td>\n",
       "    </tr>\n",
       "    <tr>\n",
       "      <th>1</th>\n",
       "      <td>ENTERTAINMENT</td>\n",
       "      <td>Will Smith Joins Diplo And Nicky Jam For The 2...</td>\n",
       "      <td>Of course it has a song.</td>\n",
       "    </tr>\n",
       "    <tr>\n",
       "      <th>2</th>\n",
       "      <td>ENTERTAINMENT</td>\n",
       "      <td>Hugh Grant Marries For The First Time At Age 57</td>\n",
       "      <td>The actor and his longtime girlfriend Anna Ebe...</td>\n",
       "    </tr>\n",
       "    <tr>\n",
       "      <th>3</th>\n",
       "      <td>ENTERTAINMENT</td>\n",
       "      <td>Jim Carrey Blasts 'Castrato' Adam Schiff And D...</td>\n",
       "      <td>The actor gives Dems an ass-kicking for not fi...</td>\n",
       "    </tr>\n",
       "    <tr>\n",
       "      <th>4</th>\n",
       "      <td>ENTERTAINMENT</td>\n",
       "      <td>Julianna Margulies Uses Donald Trump Poop Bags...</td>\n",
       "      <td>The \"Dietland\" actress said using the bags is ...</td>\n",
       "    </tr>\n",
       "  </tbody>\n",
       "</table>\n",
       "</div>"
      ],
      "text/plain": [
       "        category                                           headline  \\\n",
       "0          CRIME  There Were 2 Mass Shootings In Texas Last Week...   \n",
       "1  ENTERTAINMENT  Will Smith Joins Diplo And Nicky Jam For The 2...   \n",
       "2  ENTERTAINMENT    Hugh Grant Marries For The First Time At Age 57   \n",
       "3  ENTERTAINMENT  Jim Carrey Blasts 'Castrato' Adam Schiff And D...   \n",
       "4  ENTERTAINMENT  Julianna Margulies Uses Donald Trump Poop Bags...   \n",
       "\n",
       "                                   short_description  \n",
       "0  She left her husband. He killed their children...  \n",
       "1                           Of course it has a song.  \n",
       "2  The actor and his longtime girlfriend Anna Ebe...  \n",
       "3  The actor gives Dems an ass-kicking for not fi...  \n",
       "4  The \"Dietland\" actress said using the bags is ...  "
      ]
     },
     "execution_count": 29,
     "metadata": {},
     "output_type": "execute_result"
    }
   ],
   "source": [
    "dataframe.drop('link',axis=1,inplace=True)\n",
    "dataframe.drop('authors',axis=1,inplace=True)\n",
    "dataframe.drop('date',axis=1,inplace=True)\n",
    "dataframe.head()"
   ]
  },
  {
   "cell_type": "markdown",
   "id": "4910d516",
   "metadata": {},
   "source": [
    "##### Removing the missing and undefined rows in the dataset"
   ]
  },
  {
   "cell_type": "markdown",
   "id": "67e030ca",
   "metadata": {},
   "source": [
    "Removing the missing and undefined rows in the dataset \n",
    "\n",
    "NaN means missing data\n",
    "Missing data is labelled NaN.\n",
    "Note that np.nan is not equal to Python None. Note also that np.nan is not even to np.nan as np.nan basically means undefined."
   ]
  },
  {
   "cell_type": "code",
   "execution_count": 30,
   "id": "b8c6bcf2-276d-4525-abaa-1058d2c6da24",
   "metadata": {
    "tags": []
   },
   "outputs": [
    {
     "data": {
      "text/html": [
       "<div>\n",
       "<style scoped>\n",
       "    .dataframe tbody tr th:only-of-type {\n",
       "        vertical-align: middle;\n",
       "    }\n",
       "\n",
       "    .dataframe tbody tr th {\n",
       "        vertical-align: top;\n",
       "    }\n",
       "\n",
       "    .dataframe thead th {\n",
       "        text-align: right;\n",
       "    }\n",
       "</style>\n",
       "<table border=\"1\" class=\"dataframe\">\n",
       "  <thead>\n",
       "    <tr style=\"text-align: right;\">\n",
       "      <th></th>\n",
       "      <th>target_labels</th>\n",
       "      <th>headline</th>\n",
       "      <th>message</th>\n",
       "      <th>length</th>\n",
       "    </tr>\n",
       "  </thead>\n",
       "  <tbody>\n",
       "    <tr>\n",
       "      <th>0</th>\n",
       "      <td>CRIME</td>\n",
       "      <td>There Were 2 Mass Shootings In Texas Last Week...</td>\n",
       "      <td>She left her husband. He killed their children...</td>\n",
       "      <td>64</td>\n",
       "    </tr>\n",
       "    <tr>\n",
       "      <th>1</th>\n",
       "      <td>ENTERTAINMENT</td>\n",
       "      <td>Will Smith Joins Diplo And Nicky Jam For The 2...</td>\n",
       "      <td>Of course it has a song.</td>\n",
       "      <td>75</td>\n",
       "    </tr>\n",
       "    <tr>\n",
       "      <th>2</th>\n",
       "      <td>ENTERTAINMENT</td>\n",
       "      <td>Hugh Grant Marries For The First Time At Age 57</td>\n",
       "      <td>The actor and his longtime girlfriend Anna Ebe...</td>\n",
       "      <td>47</td>\n",
       "    </tr>\n",
       "    <tr>\n",
       "      <th>3</th>\n",
       "      <td>ENTERTAINMENT</td>\n",
       "      <td>Jim Carrey Blasts 'Castrato' Adam Schiff And D...</td>\n",
       "      <td>The actor gives Dems an ass-kicking for not fi...</td>\n",
       "      <td>69</td>\n",
       "    </tr>\n",
       "    <tr>\n",
       "      <th>4</th>\n",
       "      <td>ENTERTAINMENT</td>\n",
       "      <td>Julianna Margulies Uses Donald Trump Poop Bags...</td>\n",
       "      <td>The \"Dietland\" actress said using the bags is ...</td>\n",
       "      <td>71</td>\n",
       "    </tr>\n",
       "  </tbody>\n",
       "</table>\n",
       "</div>"
      ],
      "text/plain": [
       "   target_labels                                           headline  \\\n",
       "0          CRIME  There Were 2 Mass Shootings In Texas Last Week...   \n",
       "1  ENTERTAINMENT  Will Smith Joins Diplo And Nicky Jam For The 2...   \n",
       "2  ENTERTAINMENT    Hugh Grant Marries For The First Time At Age 57   \n",
       "3  ENTERTAINMENT  Jim Carrey Blasts 'Castrato' Adam Schiff And D...   \n",
       "4  ENTERTAINMENT  Julianna Margulies Uses Donald Trump Poop Bags...   \n",
       "\n",
       "                                             message  length  \n",
       "0  She left her husband. He killed their children...      64  \n",
       "1                           Of course it has a song.      75  \n",
       "2  The actor and his longtime girlfriend Anna Ebe...      47  \n",
       "3  The actor gives Dems an ass-kicking for not fi...      69  \n",
       "4  The \"Dietland\" actress said using the bags is ...      71  "
      ]
     },
     "execution_count": 30,
     "metadata": {},
     "output_type": "execute_result"
    }
   ],
   "source": [
    "\n",
    "dataframe = dataframe[dataframe['short_description'].notna()]\n",
    "dataframe = dataframe[dataframe['headline'].notna()]\n",
    "dataframe = dataframe[dataframe['category'].notna()]\n",
    "\n",
    "dataframe.rename(columns = {'short_description':'message'}, inplace = True)\n",
    "dataframe.rename(columns = {'category':'target_labels'}, inplace = True)\n",
    "dataframe['length']=dataframe['headline'].apply(len)\n",
    "dataframe.head()"
   ]
  },
  {
   "cell_type": "code",
   "execution_count": 31,
   "id": "72b5bb2a-2b80-46b3-a1c8-62c5a761d673",
   "metadata": {},
   "outputs": [
    {
     "name": "stdout",
     "output_type": "stream",
     "text": [
      "<class 'pandas.core.frame.DataFrame'>\n",
      "Int64Index: 181140 entries, 0 to 200852\n",
      "Data columns (total 4 columns):\n",
      " #   Column         Non-Null Count   Dtype \n",
      "---  ------         --------------   ----- \n",
      " 0   target_labels  181140 non-null  object\n",
      " 1   headline       181140 non-null  object\n",
      " 2   message        181140 non-null  object\n",
      " 3   length         181140 non-null  int64 \n",
      "dtypes: int64(1), object(3)\n",
      "memory usage: 6.9+ MB\n"
     ]
    }
   ],
   "source": [
    "dataframe.info()\n"
   ]
  },
  {
   "cell_type": "markdown",
   "id": "63323cd1",
   "metadata": {},
   "source": [
    "#### Unique labels the dataset"
   ]
  },
  {
   "cell_type": "code",
   "execution_count": 32,
   "id": "48c8fe28",
   "metadata": {},
   "outputs": [
    {
     "data": {
      "text/plain": [
       "array(['CRIME', 'ENTERTAINMENT', 'WORLD NEWS', 'IMPACT', 'POLITICS',\n",
       "       'WEIRD NEWS', 'BLACK VOICES', 'WOMEN', 'COMEDY', 'QUEER VOICES',\n",
       "       'SPORTS', 'BUSINESS', 'TRAVEL', 'MEDIA', 'TECH', 'RELIGION',\n",
       "       'SCIENCE', 'LATINO VOICES', 'EDUCATION', 'COLLEGE', 'PARENTS',\n",
       "       'ARTS & CULTURE', 'STYLE', 'GREEN', 'TASTE', 'HEALTHY LIVING',\n",
       "       'THE WORLDPOST', 'GOOD NEWS', 'WORLDPOST', 'FIFTY', 'ARTS',\n",
       "       'WELLNESS', 'PARENTING', 'HOME & LIVING', 'STYLE & BEAUTY',\n",
       "       'DIVORCE', 'WEDDINGS', 'FOOD & DRINK', 'MONEY', 'ENVIRONMENT',\n",
       "       'CULTURE & ARTS'], dtype=object)"
      ]
     },
     "execution_count": 32,
     "metadata": {},
     "output_type": "execute_result"
    }
   ],
   "source": [
    "dataframe['target_labels'].unique()"
   ]
  },
  {
   "cell_type": "markdown",
   "id": "cb9d5ec3",
   "metadata": {},
   "source": [
    "#### Filtering rows based on the 5 labels which we have choosen "
   ]
  },
  {
   "cell_type": "code",
   "execution_count": 33,
   "id": "e83415e4",
   "metadata": {},
   "outputs": [
    {
     "data": {
      "text/plain": [
       "array(['POLITICS', 'SPORTS', 'EDUCATION', 'HEALTH', 'FINANCE'],\n",
       "      dtype=object)"
      ]
     },
     "execution_count": 33,
     "metadata": {},
     "output_type": "execute_result"
    }
   ],
   "source": [
    "dataframe['target_labels'] = dataframe['target_labels'].replace(['HEALTHY LIVING'],['HEALTH'])\n",
    "dataframe['target_labels'] = dataframe['target_labels'].replace(['MONEY'],['FINANCE'])\n",
    "\n",
    "categories = ['POLITICS', 'EDUCATION', 'HEALTH','FINANCE','SPORTS']\n",
    "#filtering\n",
    "dataframe = dataframe.loc[dataframe['target_labels'].isin(categories)]\n",
    "\n",
    "dataframe['target_labels'].unique()"
   ]
  },
  {
   "cell_type": "markdown",
   "id": "26aea63f",
   "metadata": {},
   "source": [
    "#### Concatinating the headline and short description to increase the word count"
   ]
  },
  {
   "cell_type": "code",
   "execution_count": 34,
   "id": "811b9809-14cb-4eb6-bda2-f9f1604d6cf6",
   "metadata": {
    "tags": []
   },
   "outputs": [],
   "source": [
    "dataframe['headline'] = dataframe['message']+ dataframe['headline']\n",
    "dataframe['length']= dataframe['headline'].apply(len)\n",
    "\n",
    "#Removing the redundent col in the dataset\n",
    "dataframe.drop('message',axis=1,inplace=True)\n"
   ]
  },
  {
   "cell_type": "code",
   "execution_count": 35,
   "id": "7f37c6df-36c5-414d-99cd-c16dd3dec200",
   "metadata": {},
   "outputs": [
    {
     "data": {
      "text/html": [
       "<div>\n",
       "<style scoped>\n",
       "    .dataframe tbody tr th:only-of-type {\n",
       "        vertical-align: middle;\n",
       "    }\n",
       "\n",
       "    .dataframe tbody tr th {\n",
       "        vertical-align: top;\n",
       "    }\n",
       "\n",
       "    .dataframe thead th {\n",
       "        text-align: right;\n",
       "    }\n",
       "</style>\n",
       "<table border=\"1\" class=\"dataframe\">\n",
       "  <thead>\n",
       "    <tr style=\"text-align: right;\">\n",
       "      <th></th>\n",
       "      <th>target_labels</th>\n",
       "      <th>headline</th>\n",
       "      <th>length</th>\n",
       "    </tr>\n",
       "  </thead>\n",
       "  <tbody>\n",
       "    <tr>\n",
       "      <th>13</th>\n",
       "      <td>POLITICS</td>\n",
       "      <td>Last month a Health and Human Services officia...</td>\n",
       "      <td>237</td>\n",
       "    </tr>\n",
       "    <tr>\n",
       "      <th>14</th>\n",
       "      <td>POLITICS</td>\n",
       "      <td>The wiretaps feature conversations between Ale...</td>\n",
       "      <td>213</td>\n",
       "    </tr>\n",
       "    <tr>\n",
       "      <th>15</th>\n",
       "      <td>POLITICS</td>\n",
       "      <td>But don't count on Robert Mueller to nail him,...</td>\n",
       "      <td>142</td>\n",
       "    </tr>\n",
       "    <tr>\n",
       "      <th>16</th>\n",
       "      <td>POLITICS</td>\n",
       "      <td>Just a peeping minute.Booyah: Obama Photograph...</td>\n",
       "      <td>87</td>\n",
       "    </tr>\n",
       "    <tr>\n",
       "      <th>17</th>\n",
       "      <td>POLITICS</td>\n",
       "      <td>Irish women will no longer have to travel to t...</td>\n",
       "      <td>155</td>\n",
       "    </tr>\n",
       "  </tbody>\n",
       "</table>\n",
       "</div>"
      ],
      "text/plain": [
       "   target_labels                                           headline  length\n",
       "13      POLITICS  Last month a Health and Human Services officia...     237\n",
       "14      POLITICS  The wiretaps feature conversations between Ale...     213\n",
       "15      POLITICS  But don't count on Robert Mueller to nail him,...     142\n",
       "16      POLITICS  Just a peeping minute.Booyah: Obama Photograph...      87\n",
       "17      POLITICS  Irish women will no longer have to travel to t...     155"
      ]
     },
     "execution_count": 35,
     "metadata": {},
     "output_type": "execute_result"
    }
   ],
   "source": [
    "dataframe.head()\n"
   ]
  },
  {
   "cell_type": "markdown",
   "id": "f6ce58ee",
   "metadata": {},
   "source": [
    "#### Visualization of the dataset  "
   ]
  },
  {
   "cell_type": "code",
   "execution_count": 36,
   "id": "4e347627-37a9-4aa1-a4a6-0957755104ee",
   "metadata": {
    "tags": []
   },
   "outputs": [
    {
     "data": {
      "text/plain": [
       "<AxesSubplot:xlabel='target_labels', ylabel='length'>"
      ]
     },
     "execution_count": 36,
     "metadata": {},
     "output_type": "execute_result"
    },
    {
     "data": {
      "image/png": "[encoded data removed]",
      "text/plain": [
       "<Figure size 432x288 with 1 Axes>"
      ]
     },
     "metadata": {
      "needs_background": "light"
     },
     "output_type": "display_data"
    }
   ],
   "source": [
    "sns.barplot(x='target_labels',y='length',data=dataframe)"
   ]
  },
  {
   "cell_type": "markdown",
   "id": "97099a37",
   "metadata": {},
   "source": [
    "#### Label Encoding "
   ]
  },
  {
   "cell_type": "code",
   "execution_count": 37,
   "id": "5038a9af",
   "metadata": {},
   "outputs": [],
   "source": [
    "from sklearn.preprocessing import LabelEncoder\n",
    "dataframe['target'] = LabelEncoder().fit_transform(dataframe.target_labels)\n",
    "#\"'POLITICS=3', 'EDUCATION 0', 'HEALTH =1','Finance = 2','SPORTS =4'\"\n"
   ]
  },
  {
   "cell_type": "code",
   "execution_count": 38,
   "id": "173cdf2b-61fd-488d-baa6-bcd7d54a2ced",
   "metadata": {},
   "outputs": [
    {
     "data": {
      "text/html": [
       "<div>\n",
       "<style scoped>\n",
       "    .dataframe tbody tr th:only-of-type {\n",
       "        vertical-align: middle;\n",
       "    }\n",
       "\n",
       "    .dataframe tbody tr th {\n",
       "        vertical-align: top;\n",
       "    }\n",
       "\n",
       "    .dataframe thead th {\n",
       "        text-align: right;\n",
       "    }\n",
       "</style>\n",
       "<table border=\"1\" class=\"dataframe\">\n",
       "  <thead>\n",
       "    <tr style=\"text-align: right;\">\n",
       "      <th></th>\n",
       "      <th>headline</th>\n",
       "      <th>target</th>\n",
       "    </tr>\n",
       "  </thead>\n",
       "  <tbody>\n",
       "    <tr>\n",
       "      <th>13</th>\n",
       "      <td>Last month a Health and Human Services officia...</td>\n",
       "      <td>3</td>\n",
       "    </tr>\n",
       "    <tr>\n",
       "      <th>14</th>\n",
       "      <td>The wiretaps feature conversations between Ale...</td>\n",
       "      <td>3</td>\n",
       "    </tr>\n",
       "    <tr>\n",
       "      <th>15</th>\n",
       "      <td>But don't count on Robert Mueller to nail him,...</td>\n",
       "      <td>3</td>\n",
       "    </tr>\n",
       "    <tr>\n",
       "      <th>16</th>\n",
       "      <td>Just a peeping minute.Booyah: Obama Photograph...</td>\n",
       "      <td>3</td>\n",
       "    </tr>\n",
       "    <tr>\n",
       "      <th>17</th>\n",
       "      <td>Irish women will no longer have to travel to t...</td>\n",
       "      <td>3</td>\n",
       "    </tr>\n",
       "  </tbody>\n",
       "</table>\n",
       "</div>"
      ],
      "text/plain": [
       "                                             headline  target\n",
       "13  Last month a Health and Human Services officia...       3\n",
       "14  The wiretaps feature conversations between Ale...       3\n",
       "15  But don't count on Robert Mueller to nail him,...       3\n",
       "16  Just a peeping minute.Booyah: Obama Photograph...       3\n",
       "17  Irish women will no longer have to travel to t...       3"
      ]
     },
     "execution_count": 38,
     "metadata": {},
     "output_type": "execute_result"
    }
   ],
   "source": [
    "dataframe.drop('target_labels',axis=1,inplace=True)\n",
    "dataframe.drop('length',axis=1,inplace=True)\n",
    "dataframe.head()"
   ]
  },
  {
   "cell_type": "markdown",
   "id": "2c2c9c99",
   "metadata": {},
   "source": [
    "#### Spliting the dataset into training and test dataset ,ratio is 80:20  "
   ]
  },
  {
   "cell_type": "code",
   "execution_count": 39,
   "id": "38ed02af-4440-48d2-b76d-65ca08682452",
   "metadata": {
    "tags": []
   },
   "outputs": [],
   "source": [
    "data_train, data_test = train_test_split(dataframe,test_size=0.2,random_state = 42,shuffle=True)"
   ]
  },
  {
   "cell_type": "markdown",
   "id": "c74a4313",
   "metadata": {},
   "source": [
    "#### Bag of Words(BoW transformation) "
   ]
  },
  {
   "cell_type": "code",
   "execution_count": 40,
   "id": "dd1d3a11",
   "metadata": {},
   "outputs": [
    {
     "name": "stdout",
     "output_type": "stream",
     "text": [
      "Shape of Sparse Matrix:  (33329, 37407)\n",
      "Amount of Non-Zero occurences:  826343\n"
     ]
    }
   ],
   "source": [
    "from sklearn.feature_extraction.text import CountVectorizer\n",
    "\n",
    "countVect = CountVectorizer()\n",
    "xTrainTermFrequency = countVect.fit_transform(data_train.headline)\n",
    "xTestTermFrequency = countVect.transform(data_test.headline)\n",
    "\n",
    "#print(xTrainTermFrequency)\n",
    "print('Shape of Sparse Matrix: ', xTrainTermFrequency.shape)\n",
    "print('Amount of Non-Zero occurences: ', xTrainTermFrequency.nnz)"
   ]
  },
  {
   "cell_type": "markdown",
   "id": "144d772f",
   "metadata": {},
   "source": [
    "#### TF-IDF Transformations"
   ]
  },
  {
   "cell_type": "code",
   "execution_count": 41,
   "id": "97a42d35-0301-4d4d-831c-1687cf77449e",
   "metadata": {},
   "outputs": [
    {
     "name": "stdout",
     "output_type": "stream",
     "text": [
      "Shape of Sparse Matrix:  (33329, 37407)\n",
      "Amount of Non-Zero occurences:  826343\n"
     ]
    }
   ],
   "source": [
    "#Importing TfidfVectorizer to a collection of raw documents to a matrix of TF-IDF features.\n",
    "from sklearn.feature_extraction.text import TfidfTransformer\n",
    "\n",
    "tfidfTransformer = TfidfTransformer()\n",
    "xTrainTFIDF = tfidfTransformer.fit_transform(xTrainTermFrequency)\n",
    "xTestTFIDF = tfidfTransformer.transform(xTestTermFrequency)\n",
    "\n",
    "#print(xTrainTermFrequency)\n",
    "print('Shape of Sparse Matrix: ', xTrainTermFrequency.shape)\n",
    "print('Amount of Non-Zero occurences: ', xTrainTermFrequency.nnz)"
   ]
  },
  {
   "cell_type": "markdown",
   "id": "a0d3a211",
   "metadata": {},
   "source": [
    "#### MultinomialNBC with KFold crossvalidation and GridSearch"
   ]
  },
  {
   "cell_type": "code",
   "execution_count": 42,
   "id": "39996833-362e-4d14-8e82-940acc6048a3",
   "metadata": {},
   "outputs": [
    {
     "name": "stdout",
     "output_type": "stream",
     "text": [
      "Wall time: 0 ns\n"
     ]
    }
   ],
   "source": [
    "%%time\n",
    "from sklearn.model_selection import GridSearchCV, StratifiedKFold, train_test_split\n",
    "from sklearn.naive_bayes import MultinomialNB\n",
    "\n",
    "#Cross-validation\n",
    "skf = StratifiedKFold(n_splits=10)\n",
    "params = {}\n",
    "nb = MultinomialNB()\n",
    "gs = GridSearchCV(nb, cv=skf, param_grid=params, return_train_score=True)\n"
   ]
  },
  {
   "cell_type": "markdown",
   "id": "9412b387",
   "metadata": {},
   "source": [
    "#### Training the model"
   ]
  },
  {
   "cell_type": "code",
   "execution_count": 43,
   "id": "dc42112c",
   "metadata": {},
   "outputs": [
    {
     "name": "stdout",
     "output_type": "stream",
     "text": [
      "Wall time: 443 ms\n"
     ]
    },
    {
     "data": {
      "text/plain": [
       "{'mean_fit_time': array([0.02550313]),\n",
       " 'std_fit_time': array([0.00599391]),\n",
       " 'mean_score_time': array([0.00249021]),\n",
       " 'std_score_time': array([0.00291965]),\n",
       " 'params': [{}],\n",
       " 'split0_test_score': array([0.75127513]),\n",
       " 'split1_test_score': array([0.75787579]),\n",
       " 'split2_test_score': array([0.75937594]),\n",
       " 'split3_test_score': array([0.75637564]),\n",
       " 'split4_test_score': array([0.75247525]),\n",
       " 'split5_test_score': array([0.75217522]),\n",
       " 'split6_test_score': array([0.75667567]),\n",
       " 'split7_test_score': array([0.75277528]),\n",
       " 'split8_test_score': array([0.75307531]),\n",
       " 'split9_test_score': array([0.75690276]),\n",
       " 'mean_test_score': array([0.7548982]),\n",
       " 'std_test_score': array([0.00269292]),\n",
       " 'rank_test_score': array([1]),\n",
       " 'split0_train_score': array([0.77333644]),\n",
       " 'split1_train_score': array([0.77300307]),\n",
       " 'split2_train_score': array([0.77246966]),\n",
       " 'split3_train_score': array([0.77320309]),\n",
       " 'split4_train_score': array([0.77296973]),\n",
       " 'split5_train_score': array([0.7745366]),\n",
       " 'split6_train_score': array([0.77266969]),\n",
       " 'split7_train_score': array([0.77356981]),\n",
       " 'split8_train_score': array([0.77383651]),\n",
       " 'split9_train_score': array([0.77331066]),\n",
       " 'mean_train_score': array([0.77329053]),\n",
       " 'std_train_score': array([0.00056425])}"
      ]
     },
     "execution_count": 43,
     "metadata": {},
     "output_type": "execute_result"
    }
   ],
   "source": [
    "%%time\n",
    "\n",
    "gs.fit(xTrainTFIDF,data_train.target)\n",
    "gs.cv_results_"
   ]
  },
  {
   "cell_type": "code",
   "execution_count": 44,
   "id": "adce4638",
   "metadata": {},
   "outputs": [],
   "source": [
    "#nb.fit(xTrainTFIDF,data_train.target)\n",
    "#nb.score(xTrainTFIDF,data_train.target)\n",
    "#gs.score(xTrainTFIDF,data_train.target)"
   ]
  },
  {
   "cell_type": "code",
   "execution_count": 45,
   "id": "7f3426dd",
   "metadata": {},
   "outputs": [
    {
     "name": "stdout",
     "output_type": "stream",
     "text": [
      "Wall time: 840 ms\n"
     ]
    },
    {
     "data": {
      "text/plain": [
       "0.9498934861531999"
      ]
     },
     "execution_count": 45,
     "metadata": {},
     "output_type": "execute_result"
    }
   ],
   "source": [
    "%%time\n",
    "gs.param_grid = {'alpha': [0.1, 2]}\n",
    "gs.fit(xTrainTFIDF, data_train.target)\n",
    "gs.score(xTrainTFIDF,data_train.target)"
   ]
  },
  {
   "cell_type": "markdown",
   "id": "9828e20c",
   "metadata": {},
   "source": [
    " ### Time taken to train the NBC model is :880ms"
   ]
  },
  {
   "cell_type": "markdown",
   "id": "d1cf62e3",
   "metadata": {},
   "source": [
    "#### Testing the model against test dataset"
   ]
  },
  {
   "cell_type": "code",
   "execution_count": 46,
   "id": "e7c545b1",
   "metadata": {},
   "outputs": [],
   "source": [
    "predicted = gs.best_estimator_.predict(xTestTFIDF)"
   ]
  },
  {
   "cell_type": "markdown",
   "id": "3697ab0a",
   "metadata": {},
   "source": [
    "#### Prior Probability values of classes P(Y)"
   ]
  },
  {
   "cell_type": "code",
   "execution_count": 47,
   "id": "d926ef72",
   "metadata": {},
   "outputs": [
    {
     "data": {
      "text/plain": [
       "array([-3.80753298, -3.20706431, -2.05903843, -0.34471518, -2.28944015])"
      ]
     },
     "execution_count": 47,
     "metadata": {},
     "output_type": "execute_result"
    }
   ],
   "source": [
    "best_model = gs.best_estimator_\n",
    "#best_model.class_count_\n",
    "#best_model.classes_\n",
    "best_model.class_log_prior_"
   ]
  },
  {
   "cell_type": "markdown",
   "id": "334fdb9a",
   "metadata": {},
   "source": [
    "#### Probaility of P(Xi/Y)"
   ]
  },
  {
   "cell_type": "code",
   "execution_count": 48,
   "id": "8d50a5cf",
   "metadata": {},
   "outputs": [
    {
     "data": {
      "text/plain": [
       "array([[ -9.86904437,  -8.34614126, -11.22194278, ..., -11.22194278,\n",
       "        -11.22194278, -11.22194278],\n",
       "       [-10.2377195 ,  -6.89931653, -11.54727555, ..., -11.54727555,\n",
       "        -11.54727555, -11.54727555],\n",
       "       [-11.1634557 ,  -8.15677929, -10.92787297, ..., -12.3633712 ,\n",
       "        -12.3633712 , -12.3633712 ],\n",
       "       [-12.5925482 ,  -7.89405896, -13.89649945, ..., -12.47629109,\n",
       "        -12.18255067, -12.26992295],\n",
       "       [-10.26864304,  -8.24967997, -12.1068977 , ..., -12.1068977 ,\n",
       "        -12.1068977 , -12.1068977 ]])"
      ]
     },
     "execution_count": 48,
     "metadata": {},
     "output_type": "execute_result"
    }
   ],
   "source": [
    "#best_model.feature_count_\n",
    "best_model.feature_log_prob_\n",
    "#best_model.predict_proba(xTestTFIDF)"
   ]
  },
  {
   "cell_type": "code",
   "execution_count": 49,
   "id": "30940568-ee05-4b1a-89ab-8811c916ce4c",
   "metadata": {},
   "outputs": [
    {
     "name": "stdout",
     "output_type": "stream",
     "text": [
      "Accuracy :  0.8844353774150966\n"
     ]
    }
   ],
   "source": [
    "from sklearn import metrics\n",
    "from sklearn.metrics import confusion_matrix\n",
    "from sklearn.metrics import accuracy_score\n",
    "from sklearn.metrics import classification_report\n",
    "\n",
    "print (\"Accuracy : \", accuracy_score(data_test.target, predicted))"
   ]
  },
  {
   "cell_type": "code",
   "execution_count": 52,
   "id": "091d1da5-19ce-47ac-91d7-707f71a62e3c",
   "metadata": {},
   "outputs": [
    {
     "name": "stdout",
     "output_type": "stream",
     "text": [
      "\n",
      "Classification Report : \n",
      "              precision    recall  f1-score   support\n",
      "\n",
      "    POLITICS       0.80      0.05      0.10       152\n",
      "   EDUCATION       0.90      0.25      0.39       357\n",
      "      HEALTH       0.87      0.74      0.80      1013\n",
      "     FINANCE       0.88      0.99      0.93      5967\n",
      "      SPORTS       0.95      0.73      0.83       844\n",
      "\n",
      "    accuracy                           0.88      8333\n",
      "   macro avg       0.88      0.55      0.61      8333\n",
      "weighted avg       0.89      0.88      0.87      8333\n",
      "\n",
      "Confusion Matrix : \n",
      "[[   8    5   19  120    0]\n",
      " [   0   88   47  220    2]\n",
      " [   0    2  754  252    5]\n",
      " [   2    2   39 5901   23]\n",
      " [   0    1   10  214  619]]\n"
     ]
    }
   ],
   "source": [
    "print (\"\")\n",
    "print (\"Classification Report : \")\n",
    "print (classification_report(data_test.target, predicted, target_names = categories))\n",
    "print (\"Confusion Matrix : \")\n",
    "print (metrics.confusion_matrix(data_test.target, predicted))"
   ]
  },
  {
   "cell_type": "markdown",
   "id": "08aff30f",
   "metadata": {},
   "source": [
    " \n",
    "##### EDUCATION = 0 \n",
    "##### HEALTHY  = 1\n",
    "##### FINANCE = 2\n",
    "##### POLITICS = 3 \n",
    "#####  SPORTS = 4"
   ]
  },
  {
   "cell_type": "code",
   "execution_count": 51,
   "id": "77a9657d",
   "metadata": {},
   "outputs": [
    {
     "name": "stdout",
     "output_type": "stream",
     "text": [
      "[3]\n"
     ]
    }
   ],
   "source": [
    "#custom_headline_by_user\n",
    "#user_input_data_1 =['This is a message related to sports and lebron lifts nba championship again'] \n",
    "user_input_data_1 = ['Trump marriage in spoils after elction loss'] \n",
    "\n",
    "userdataTermFrequency = countVect.transform(user_input_data_1)\n",
    "user_dataTFID = tfidfTransformer.transform(userdataTermFrequency)\n",
    "\n",
    "autual_headline_predicted = gs.best_estimator_.predict(user_dataTFID)\n",
    "print(autual_headline_predicted)\n",
    "def headlinePredict(target_num):\n",
    "    if target_num == 0:\n",
    "        return \"Headline comes under EDUCATION section\"\n",
    "    if target_num == 1:\n",
    "        return \"Headline comes under HEALTH section\"\n",
    "    if target_num == 2:\n",
    "        return \"Headline comes under FINANCE section\"\n",
    "    if target_num == 3:\n",
    "        return \"Headline comes under POLITICS section\"\n",
    "    if target_num == 4:\n",
    "        return \"Headline comes under SPORTS section\"\n",
    "    \n",
    "#headlinePredict(gs.best_estimator_.predict(user_dataTFID))"
   ]
  },
  {
   "cell_type": "code",
   "execution_count": 67,
   "id": "7550ce23",
   "metadata": {},
   "outputs": [
    {
     "data": {
      "text/plain": [
       "'Headline comes under POLITICS section'"
      ]
     },
     "execution_count": 67,
     "metadata": {},
     "output_type": "execute_result"
    }
   ],
   "source": [
    "headlinePredict(gs.best_estimator_.predict(user_dataTFID))"
   ]
  },
  {
   "cell_type": "code",
   "execution_count": null,
   "id": "87cd7337-382d-4f15-b4cd-f93e42585be0",
   "metadata": {},
   "outputs": [],
   "source": []
  },
  {
   "cell_type": "code",
   "execution_count": null,
   "id": "736d79ad",
   "metadata": {},
   "outputs": [],
   "source": []
  }
 ],
 "metadata": {
  "kernelspec": {
   "display_name": "Python 3",
   "language": "python",
   "name": "python3"
  },
  "language_info": {
   "codemirror_mode": {
    "name": "ipython",
    "version": 3
   },
   "file_extension": ".py",
   "mimetype": "text/x-python",
   "name": "python",
   "nbconvert_exporter": "python",
   "pygments_lexer": "ipython3",
   "version": "3.7.10"
  }
 },
 "nbformat": 4,
 "nbformat_minor": 5
}
